{
 "cells": [
  {
   "cell_type": "code",
   "execution_count": 82,
   "metadata": {},
   "outputs": [],
   "source": [
    "import argparse\n",
    "import openml\n",
    "import torch\n",
    "import torch.nn as nn\n",
    "from torch.utils.data import DataLoader\n",
    "import torchvision\n",
    "from torchvision.transforms import Compose, ToTensor, Resize\n",
    "from torch import optim\n",
    "import numpy as np\n",
    "import pandas as pd\n",
    "from torch.hub import tqdm"
   ]
  },
  {
   "cell_type": "code",
   "execution_count": 83,
   "metadata": {},
   "outputs": [],
   "source": [
    "# Import dependencies\n",
    "import matplotlib.pyplot as plt\n",
    "from sklearn.datasets import make_blobs, make_moons\n",
    "from sklearn.model_selection import train_test_split"
   ]
  },
  {
   "cell_type": "code",
   "execution_count": 84,
   "metadata": {},
   "outputs": [],
   "source": [
    "# Set the hyperparameters for data creation\n",
    "NUM_CLASSES = 2\n",
    "NUM_FEATURES = 2\n",
    "RANDOM_SEED = 42\n",
    "\n",
    "# 1. Create multi-class data\n",
    "X_data, y_data = make_moons(n_samples=1000,random_state=RANDOM_SEED)\n",
    "\n",
    "X_data = torch.from_numpy(X_data).type(torch.float)\n",
    "y_data = torch.from_numpy(y_data).type(torch.float)\n",
    "\n",
    "X_train, X_test, y_train, y_test = train_test_split(X_data,y_data,random_state=RANDOM_SEED,test_size=0.2)\n"
   ]
  },
  {
   "cell_type": "code",
   "execution_count": 85,
   "metadata": {},
   "outputs": [
    {
     "data": {
      "text/plain": [
       "<matplotlib.collections.PathCollection at 0x15cc7296390>"
      ]
     },
     "execution_count": 85,
     "metadata": {},
     "output_type": "execute_result"
    },
    {
     "data": {
      "image/png": "[encoded data removed]",
      "text/plain": [
       "<Figure size 700x400 with 1 Axes>"
      ]
     },
     "metadata": {},
     "output_type": "display_data"
    }
   ],
   "source": [
    "plt.figure(figsize=(7, 4))\n",
    "plt.scatter(X_data[:, 0], X_data[:, 1], c=y_data, cmap=plt.cm.RdYlBu)"
   ]
  },
  {
   "cell_type": "code",
   "execution_count": 86,
   "metadata": {},
   "outputs": [],
   "source": [
    "device = \"cuda\" if torch.cuda.is_available() else \"cpu\""
   ]
  },
  {
   "cell_type": "code",
   "execution_count": 87,
   "metadata": {},
   "outputs": [],
   "source": [
    "class patrickNeuralNetwork(nn.Module):\n",
    "    def __init__(self,n_features,output_features,hidden_units=8) :\n",
    "        super().__init__()\n",
    "        self.linearStack = nn.Sequential(\n",
    "            nn.Linear(in_features=n_features,out_features=hidden_units),\n",
    "            nn.ReLU(),\n",
    "            nn.Linear(in_features=hidden_units,out_features=hidden_units),\n",
    "            nn.ReLU(),\n",
    "            nn.Linear(in_features=hidden_units,out_features=hidden_units),\n",
    "            nn.ReLU(),\n",
    "            nn.Linear(in_features=hidden_units,out_features=output_features)\n",
    "        )\n",
    "    \n",
    "    def forward(self,x):\n",
    "        return self.linearStack(x)"
   ]
  },
  {
   "cell_type": "code",
   "execution_count": 88,
   "metadata": {},
   "outputs": [
    {
     "data": {
      "text/plain": [
       "patrickNeuralNetwork(\n",
       "  (linearStack): Sequential(\n",
       "    (0): Linear(in_features=2, out_features=8, bias=True)\n",
       "    (1): ReLU()\n",
       "    (2): Linear(in_features=8, out_features=8, bias=True)\n",
       "    (3): ReLU()\n",
       "    (4): Linear(in_features=8, out_features=8, bias=True)\n",
       "    (5): ReLU()\n",
       "    (6): Linear(in_features=8, out_features=1, bias=True)\n",
       "  )\n",
       ")"
      ]
     },
     "execution_count": 88,
     "metadata": {},
     "output_type": "execute_result"
    }
   ],
   "source": [
    "model = patrickNeuralNetwork(NUM_FEATURES,output_features=1).to(device)\n",
    "model"
   ]
  },
  {
   "cell_type": "code",
   "execution_count": 89,
   "metadata": {},
   "outputs": [],
   "source": [
    "loss_fn = nn.BCEWithLogitsLoss()\n",
    "optimizer = torch.optim.Adam(model.parameters(),lr=0.01)"
   ]
  },
  {
   "cell_type": "code",
   "execution_count": 90,
   "metadata": {},
   "outputs": [],
   "source": [
    "# Calculate accuracy (a classification metric)\n",
    "def accuracy_fn(y_true, y_pred):\n",
    "    correct = torch.eq(y_true, y_pred).sum().item() # torch.eq() calculates where two tensors are equal\n",
    "    acc = (correct / len(y_pred)) * 100\n",
    "    return acc"
   ]
  },
  {
   "cell_type": "code",
   "execution_count": null,
   "metadata": {},
   "outputs": [],
   "source": [
    "print(y_data)"
   ]
  },
  {
   "cell_type": "code",
   "execution_count": 92,
   "metadata": {},
   "outputs": [
    {
     "name": "stdout",
     "output_type": "stream",
     "text": [
      "Epoch: 0 | Loss: 0.70254, Acc: 0.50% | Test Loss: 0.69781, Test Acc: 0.50%\n",
      "Epoch: 10 | Loss: 0.66220, Acc: 0.72% | Test Loss: 0.66050, Test Acc: 0.69%\n",
      "Epoch: 20 | Loss: 0.56928, Acc: 0.79% | Test Loss: 0.57184, Test Acc: 0.76%\n",
      "Epoch: 30 | Loss: 0.43366, Acc: 0.81% | Test Loss: 0.44159, Test Acc: 0.80%\n",
      "Epoch: 40 | Loss: 0.30774, Acc: 0.86% | Test Loss: 0.30700, Test Acc: 0.85%\n",
      "Epoch: 50 | Loss: 0.23427, Acc: 0.89% | Test Loss: 0.23368, Test Acc: 0.90%\n",
      "Epoch: 60 | Loss: 0.20902, Acc: 0.90% | Test Loss: 0.19990, Test Acc: 0.92%\n",
      "Epoch: 70 | Loss: 0.18585, Acc: 0.91% | Test Loss: 0.18057, Test Acc: 0.93%\n",
      "Epoch: 80 | Loss: 0.15221, Acc: 0.93% | Test Loss: 0.14190, Test Acc: 0.94%\n",
      "Epoch: 90 | Loss: 0.09879, Acc: 0.97% | Test Loss: 0.08309, Test Acc: 0.98%\n"
     ]
    }
   ],
   "source": [
    "from torchmetrics import Accuracy\n",
    "\n",
    "torch.manual_seed(RANDOM_SEED)\n",
    "#torch.seed(RANDOM_SEED)\n",
    "\n",
    "epochs = 100\n",
    "\n",
    "X_train, y_train = X_train.to(device), y_train.to(device)\n",
    "X_test, y_test = X_test.to(device), y_test.to(device)\n",
    "Acc = Accuracy(task=\"binary\")\n",
    "for epoch in range(epochs):\n",
    "\n",
    "    model.train()\n",
    "\n",
    "    y_logits = model(X_train).squeeze()\n",
    "    y_pred = torch.round(torch.sigmoid(y_logits))\n",
    "    \n",
    "    #quand on utilise une loss fonction BCEwithLogitsLoss, on passe les logits en comparaison\n",
    "    loss = loss_fn(y_logits,y_train)\n",
    "\n",
    "    acc = Acc(y_train,y_pred)\n",
    "    \n",
    "    \n",
    "    optimizer.zero_grad()\n",
    "    loss.backward()\n",
    "    optimizer.step()\n",
    "\n",
    "    model.eval()\n",
    "\n",
    "    with torch.inference_mode():\n",
    "      # 1. Forward pass\n",
    "      test_logits = model(X_test).squeeze()\n",
    "      test_pred = torch.round(torch.sigmoid(test_logits))\n",
    "\n",
    "      # 2. Calculate test loss and accuracy\n",
    "      test_loss = loss_fn(test_logits, y_test)\n",
    "      test_acc = Acc(y_test,test_pred)\n",
    "\n",
    "    # Print out what's happening\n",
    "    if epoch % 10 == 0:\n",
    "        print(f\"Epoch: {epoch} | Loss: {loss:.5f}, Acc: {acc:.2f}% | Test Loss: {test_loss:.5f}, Test Acc: {test_acc:.2f}%\")"
   ]
  },
  {
   "cell_type": "code",
   "execution_count": 96,
   "metadata": {},
   "outputs": [
    {
     "data": {
      "text/plain": [
       "{8: ('regression', 115.25619442923029),\n",
       " 20: ('regression', 115.29041452104958),\n",
       " 50: ('regression', 115.66978709909198),\n",
       " 100: ('regression', 117.07590066432115),\n",
       " 180: ('regression', 117.0340408440459),\n",
       " 200: ('regression', 118.95057888927539)}"
      ]
     },
     "execution_count": 96,
     "metadata": {},
     "output_type": "execute_result"
    }
   ],
   "source": [
    "data = {361066: {8: ('classification', 0.7617396785376616), 20: ('classification', 0.7670973841790104), 50: ('classification', 0.7658367475575165), 100: ('classification', 0.7630003151591553), 180: ('classification', 0.7642609517806492), 200: ('classification', 0.7295934446895682)}, 361076: {8: ('regression', 0.7306415), 20: ('regression', 0.7323228), 50: ('regression', 0.7366748), 100: ('regression', 0.7393718), 180: ('regression', 0.74325174), 200: ('regression', 0.75782114)}, 361085: {8: ('regression', 0.04658459111295309), 20: ('regression', 0.04509640814057335), 50: ('regression', 0.04940557568445352), 100: ('regression', 0.047847488398478216), 180: ('regression', 0.04854184062137413), 200: ('regression', 0.05001452633494936)}, 361088: {8: ('regression', 13.6638459103719), 20: ('regression', 14.196785975932952), 50: ('regression', 14.778095502340939), 100: ('regression', 15.144033906155393), 180: ('regression', 15.445019918673523), 200: ('regression', 16.01074518854403)}, 361089: {8: ('regression', 0.2509209022474643), 20: ('regression', 0.24841141236436243), 50: ('regression', 0.25085037782143976), 100: ('regression', 0.24395926041547616), 180: ('regression', 0.24342003006942206), 200: ('regression', 0.24434967451282638)}, 361110: {8: ('classification', 0.7688442211055276), 20: ('classification', 0.7685843008144169), 50: ('classification', 0.7634725350892393), 100: ('classification', 0.7492635591751863), 180: ('classification', 0.7575810084907295), 200: ('classification', 0.7425922717033443)}, 361111: {8: ('classification', 0.551270815074496), 20: ('classification', 0.535056967572305), 50: ('classification', 0.5560911481156879), 100: ('classification', 0.5683610867659947), 180: ('classification', 0.537248028045574), 200: ('classification', 0.5416301489921121)}, 361112: {8: ('classification', 0.7456953642384105), 20: ('classification', 0.7245033112582782), 50: ('classification', 0.7278145695364239), 100: ('classification', 0.7311258278145696), 180: ('classification', 0.7178807947019867), 200: ('classification', 0.7092715231788079)}, 361114: {8: ('classification', 0.6391683433936955), 20: ('classification', 0.6096579476861167), 50: ('classification', 0.6398390342052314), 100: ('classification', 0.613682092555332), 180: ('classification', 0.6042924211938296), 200: ('classification', 0.6049631120053656)}, 361116: {8: ('classification', 0.6843581013418786), 20: ('classification', 0.6639295013018226), 50: ('classification', 0.6701381934708592), 100: ('classification', 0.6431003404766673), 180: ('classification', 0.6368916483076307), 200: ('classification', 0.607450430602844)}, 361099: {8: ('regression', 115.25619442923029), 20: ('regression', 115.29041452104958), 50: ('regression', 115.66978709909198), 100: ('regression', 117.07590066432115), 180: ('regression', 117.0340408440459), 200: ('regression', 118.95057888927539)}, 361102: {8: ('regression', 0.2719617793725434), 20: ('regression', 0.2670074179422034), 50: ('regression', 0.27807784048015866), 100: ('regression', 0.27455031718864176), 180: ('regression', 0.28152496852442505), 200: ('regression', 0.3145449846655261)}}\n",
    "data[361099]"
   ]
  },
  {
   "cell_type": "code",
   "execution_count": 3,
   "metadata": {},
   "outputs": [
    {
     "data": {
      "image/png": "[encoded data removed]",
      "text/plain": [
       "<Figure size 1000x600 with 1 Axes>"
      ]
     },
     "metadata": {},
     "output_type": "display_data"
    },
    {
     "data": {
      "image/png": "[encoded data removed]",
      "text/plain": [
       "<Figure size 1000x600 with 1 Axes>"
      ]
     },
     "metadata": {},
     "output_type": "display_data"
    }
   ],
   "source": [
    "import matplotlib.pyplot as plt\n",
    "\n",
    "results_emb = {361066: {8: ('classification', 0.7617396785376616), 20: ('classification', 0.7670973841790104), 50: ('classification', 0.7658367475575165), 100: ('classification', 0.7630003151591553), 180: ('classification', 0.7642609517806492), 200: ('classification', 0.7295934446895682)}, 361076: {8: ('regression', 0.7306415), 20: ('regression', 0.7323228), 50: ('regression', 0.7366748), 100: ('regression', 0.7393718), 180: ('regression', 0.74325174), 200: ('regression', 0.75782114)}, 361085: {8: ('regression', 0.04658459111295309), 20: ('regression', 0.04509640814057335), 50: ('regression', 0.04940557568445352), 100: ('regression', 0.047847488398478216), 180: ('regression', 0.04854184062137413), 200: ('regression', 0.05001452633494936)}, 361088: {8: ('regression', 13.6638459103719), 20: ('regression', 14.196785975932952), 50: ('regression', 14.778095502340939), 100: ('regression', 15.144033906155393), 180: ('regression', 15.445019918673523), 200: ('regression', 16.01074518854403)}, 361089: {8: ('regression', 0.2509209022474643), 20: ('regression', 0.24841141236436243), 50: ('regression', 0.25085037782143976), 100: ('regression', 0.24395926041547616), 180: ('regression', 0.24342003006942206), 200: ('regression', 0.24434967451282638)}, 361110: {8: ('classification', 0.7688442211055276), 20: ('classification', 0.7685843008144169), 50: ('classification', 0.7634725350892393), 100: ('classification', 0.7492635591751863), 180: ('classification', 0.7575810084907295), 200: ('classification', 0.7425922717033443)}, 361111: {8: ('classification', 0.551270815074496), 20: ('classification', 0.535056967572305), 50: ('classification', 0.5560911481156879), 100: ('classification', 0.5683610867659947), 180: ('classification', 0.537248028045574), 200: ('classification', 0.5416301489921121)}, 361112: {8: ('classification', 0.7456953642384105), 20: ('classification', 0.7245033112582782), 50: ('classification', 0.7278145695364239), 100: ('classification', 0.7311258278145696), 180: ('classification', 0.7178807947019867), 200: ('classification', 0.7092715231788079)}, 361114: {8: ('classification', 0.6391683433936955), 20: ('classification', 0.6096579476861167), 50: ('classification', 0.6398390342052314), 100: ('classification', 0.613682092555332), 180: ('classification', 0.6042924211938296), 200: ('classification', 0.6049631120053656)}, 361116: {8: ('classification', 0.6843581013418786), 20: ('classification', 0.6639295013018226), 50: ('classification', 0.6701381934708592), 100: ('classification', 0.6431003404766673), 180: ('classification', 0.6368916483076307), 200: ('classification', 0.607450430602844)}, 361099: {8: ('regression', 115.25619442923029), 20: ('regression', 115.29041452104958), 50: ('regression', 115.66978709909198), 100: ('regression', 117.07590066432115), 180: ('regression', 117.0340408440459), 200: ('regression', 118.95057888927539)}, 361102: {8: ('regression', 0.2719617793725434), 20: ('regression', 0.2670074179422034), 50: ('regression', 0.27807784048015866), 100: ('regression', 0.27455031718864176), 180: ('regression', 0.28152496852442505), 200: ('regression', 0.3145449846655261)}}\n",
    "\n",
    "# Separate data for regression and classification tasks\n",
    "regression_data = {k: v for k, v in results_emb.items() if v[list(v.keys())[0]][0] == 'regression'}\n",
    "classification_data = {k: v for k, v in results_emb.items() if v[list(v.keys())[0]][0] == 'classification'}\n",
    "\n",
    "# Plot for regression task\n",
    "plt.figure(figsize=(10, 6))\n",
    "for key, values in regression_data.items():\n",
    "    embedding_sizes = list(values.keys())\n",
    "    scores = [value[1] for value in values.values()]\n",
    "    plt.plot(embedding_sizes, scores, label=f\"Dataset {key}\")\n",
    "plt.title(\"Regression Task Performance with Different Embedding Sizes\")\n",
    "plt.xlabel(\"Embedding Size\")\n",
    "plt.ylabel(\"RMSE\")\n",
    "plt.legend()\n",
    "plt.show()\n",
    "\n",
    "# Plot for classification task\n",
    "plt.figure(figsize=(10, 6))\n",
    "for key, values in classification_data.items():\n",
    "    embedding_sizes = list(values.keys())\n",
    "    scores = [value[1] for value in values.values()]\n",
    "    plt.plot(embedding_sizes, scores, label=f\"Dataset {key}\")\n",
    "plt.title(\"Classification Task Performance with Different Embedding Sizes\")\n",
    "plt.xlabel(\"Embedding Size\")\n",
    "plt.ylabel(\"Accuracy\")\n",
    "plt.legend()\n",
    "plt.show()"
   ]
  },
  {
   "cell_type": "code",
   "execution_count": 1,
   "metadata": {},
   "outputs": [],
   "source": [
    "results_method_features = {361066: {'baseline': ('classification', 77.9073432083202), 'numEncoder_Encoding': ('classification', 75.85880869839269), 'numEncoder_Embeddings': ('classification', 76.11093602269146), 'feature2vec': ('classification', 76.70973841790104)}, 361076: {'baseline': ('regression', 0.6807733), 'numEncoder_Encoding': ('regression', 0.7097576), 'numEncoder_Embeddings': ('regression', 0.7789898), 'feature2vec': ('regression', 0.75612813)}, 361085: {'baseline': ('regression', 0.024429886880725525), 'numEncoder_Encoding': ('regression', 0.023417982839769744), 'numEncoder_Embeddings': ('regression', 0.026184366330204996), 'feature2vec': ('regression', 0.04553987316772838)}, 361088: {'baseline': ('regression', 10.79781123722198), 'numEncoder_Encoding': ('regression', 11.593456064991551), 'numEncoder_Embeddings': ('regression', 12.176426705622678), 'feature2vec': ('regression', 15.207656208088558)}, 361089: {'baseline': ('regression', 0.16810051542168716), 'numEncoder_Encoding': ('regression', 0.1622877995990804), 'numEncoder_Embeddings': ('regression', 0.16667937181239284), 'feature2vec': ('regression', 0.23733700607943414)}, 361110: {'baseline': ('classification', 84.17085427135679), 'numEncoder_Encoding': ('classification', 84.5347426789118), 'numEncoder_Embeddings': ('classification', 82.1608040201005), 'feature2vec': ('classification', 76.77178998440478)}, 361111: {'baseline': ('classification', 59.02716914986854), 'numEncoder_Encoding': ('classification', 58.93952673093777), 'numEncoder_Embeddings': ('classification', 56.792287467134095), 'feature2vec': ('classification', 54.77651183172656)}, 361112: {'baseline': ('classification', 73.97350993377484), 'numEncoder_Encoding': ('classification', 76.15894039735099), 'numEncoder_Embeddings': ('classification', 74.10596026490066), 'feature2vec': ('classification', 74.2384105960265)}, 361114: {'baseline': ('classification', 66.39839034205231), 'numEncoder_Encoding': ('classification', 67.87391012743126), 'numEncoder_Embeddings': ('classification', 66.33132126089872), 'feature2vec': ('classification', 59.624413145539904)}, 361116: {'baseline': ('classification', 71.66032445423593), 'numEncoder_Encoding': ('classification', 71.76046465051071), 'numEncoder_Embeddings': ('classification', 69.35709993991588), 'feature2vec': ('classification', 67.73482876026436)}, 361099: {'baseline': ('regression', 65.01906247477538), 'numEncoder_Encoding': ('regression', 52.00772272405417), 'numEncoder_Embeddings': ('regression', 94.34615253199618), 'feature2vec': ('regression', 119.27809716792846)}, 361102: {'baseline': ('regression', 0.2071289916902537), 'numEncoder_Encoding': ('regression', 0.2044107290109862), 'numEncoder_Embeddings': ('regression', 0.2112129681693613), 'feature2vec': ('regression', 0.29442478863915883)}}\n",
    "\n",
    "# Separate data for regression and classification tasks\n",
    "regression_data = {k: v for k, v in results_method_features.items() if v[list(v.keys())[0]][0] == 'regression'}\n",
    "classification_data = {k: v for k, v in results_method_features.items() if v[list(v.keys())[0]][0] == 'classification'}"
   ]
  },
  {
   "cell_type": "code",
   "execution_count": 2,
   "metadata": {},
   "outputs": [
    {
     "data": {
      "text/plain": [
       "{361066: {'baseline': ('classification', 77.9073432083202),\n",
       "  'numEncoder_Encoding': ('classification', 75.85880869839269),\n",
       "  'numEncoder_Embeddings': ('classification', 76.11093602269146),\n",
       "  'feature2vec': ('classification', 76.70973841790104)},\n",
       " 361110: {'baseline': ('classification', 84.17085427135679),\n",
       "  'numEncoder_Encoding': ('classification', 84.5347426789118),\n",
       "  'numEncoder_Embeddings': ('classification', 82.1608040201005),\n",
       "  'feature2vec': ('classification', 76.77178998440478)},\n",
       " 361111: {'baseline': ('classification', 59.02716914986854),\n",
       "  'numEncoder_Encoding': ('classification', 58.93952673093777),\n",
       "  'numEncoder_Embeddings': ('classification', 56.792287467134095),\n",
       "  'feature2vec': ('classification', 54.77651183172656)},\n",
       " 361112: {'baseline': ('classification', 73.97350993377484),\n",
       "  'numEncoder_Encoding': ('classification', 76.15894039735099),\n",
       "  'numEncoder_Embeddings': ('classification', 74.10596026490066),\n",
       "  'feature2vec': ('classification', 74.2384105960265)},\n",
       " 361114: {'baseline': ('classification', 66.39839034205231),\n",
       "  'numEncoder_Encoding': ('classification', 67.87391012743126),\n",
       "  'numEncoder_Embeddings': ('classification', 66.33132126089872),\n",
       "  'feature2vec': ('classification', 59.624413145539904)},\n",
       " 361116: {'baseline': ('classification', 71.66032445423593),\n",
       "  'numEncoder_Encoding': ('classification', 71.76046465051071),\n",
       "  'numEncoder_Embeddings': ('classification', 69.35709993991588),\n",
       "  'feature2vec': ('classification', 67.73482876026436)}}"
      ]
     },
     "execution_count": 2,
     "metadata": {},
     "output_type": "execute_result"
    }
   ],
   "source": [
    "classification_data"
   ]
  },
  {
   "cell_type": "code",
   "execution_count": 3,
   "metadata": {},
   "outputs": [
    {
     "data": {
      "text/plain": [
       "{361076: {'baseline': ('regression', 0.6807733),\n",
       "  'numEncoder_Encoding': ('regression', 0.7097576),\n",
       "  'numEncoder_Embeddings': ('regression', 0.7789898),\n",
       "  'feature2vec': ('regression', 0.75612813)},\n",
       " 361085: {'baseline': ('regression', 0.024429886880725525),\n",
       "  'numEncoder_Encoding': ('regression', 0.023417982839769744),\n",
       "  'numEncoder_Embeddings': ('regression', 0.026184366330204996),\n",
       "  'feature2vec': ('regression', 0.04553987316772838)},\n",
       " 361088: {'baseline': ('regression', 10.79781123722198),\n",
       "  'numEncoder_Encoding': ('regression', 11.593456064991551),\n",
       "  'numEncoder_Embeddings': ('regression', 12.176426705622678),\n",
       "  'feature2vec': ('regression', 15.207656208088558)},\n",
       " 361089: {'baseline': ('regression', 0.16810051542168716),\n",
       "  'numEncoder_Encoding': ('regression', 0.1622877995990804),\n",
       "  'numEncoder_Embeddings': ('regression', 0.16667937181239284),\n",
       "  'feature2vec': ('regression', 0.23733700607943414)},\n",
       " 361099: {'baseline': ('regression', 65.01906247477538),\n",
       "  'numEncoder_Encoding': ('regression', 52.00772272405417),\n",
       "  'numEncoder_Embeddings': ('regression', 94.34615253199618),\n",
       "  'feature2vec': ('regression', 119.27809716792846)},\n",
       " 361102: {'baseline': ('regression', 0.2071289916902537),\n",
       "  'numEncoder_Encoding': ('regression', 0.2044107290109862),\n",
       "  'numEncoder_Embeddings': ('regression', 0.2112129681693613),\n",
       "  'feature2vec': ('regression', 0.29442478863915883)}}"
      ]
     },
     "execution_count": 3,
     "metadata": {},
     "output_type": "execute_result"
    }
   ],
   "source": [
    "regression_data"
   ]
  },
  {
   "cell_type": "code",
   "execution_count": 1,
   "metadata": {},
   "outputs": [],
   "source": [
    "results_method_sample = {361066: {'baseline': ('classification', 77.68673179955877), 'numEncoder_Encoding': ('classification', 75.70122912070596), 'numEncoder_Embeddings': ('classification', 77.4976363063347), 'feature2vec': ('classification', 76.17396785376616)}, 361076: {'baseline': ('regression', 0.6947048), 'numEncoder_Encoding': ('regression', 0.70837706), 'numEncoder_Embeddings': ('regression', 0.72519064), 'feature2vec': ('regression', 0.762406)}, 361085: {'baseline': ('regression', 0.02157667593129203), 'numEncoder_Encoding': ('regression', 0.020731494758317863), 'numEncoder_Embeddings': ('regression', 0.023213502595600923), 'feature2vec': ('regression', 0.04606333004329112)}, 361088: {'baseline': ('regression', 12.275849519158864), 'numEncoder_Encoding': ('regression', 12.387720810563492), 'numEncoder_Embeddings': ('regression', 13.250100068284011), 'feature2vec': ('regression', 15.043820201191872)}, 361089: {'baseline': ('regression', 0.16950578699238583), 'numEncoder_Encoding': ('regression', 0.16298572856313967), 'numEncoder_Embeddings': ('regression', 0.17879031260333378), 'feature2vec': ('regression', 0.2365624359618306)}, 361110: {'baseline': ('classification', 83.82429388320915), 'numEncoder_Encoding': ('classification', 84.00623808698666), 'numEncoder_Embeddings': ('classification', 81.26841102062035), 'feature2vec': ('classification', 76.38190954773869)}, 361111: {'baseline': ('classification', 59.465381244522355), 'numEncoder_Encoding': ('classification', 59.246275197195445), 'numEncoder_Embeddings': ('classification', 57.58106923751095), 'feature2vec': ('classification', 53.85626643295355)}, 361112: {'baseline': ('classification', 73.97350993377484), 'numEncoder_Encoding': ('classification', 77.28476821192054), 'numEncoder_Embeddings': ('classification', 75.43046357615894), 'feature2vec': ('classification', 71.78807947019867)}, 361114: {'baseline': ('classification', 66.86787391012743), 'numEncoder_Encoding': ('classification', 67.94097920858484), 'numEncoder_Embeddings': ('classification', 68.41046277665997), 'feature2vec': ('classification', 61.03286384976526)}, 361116: {'baseline': ('classification', 71.94071700380533), 'numEncoder_Encoding': ('classification', 69.93791307830963), 'numEncoder_Embeddings': ('classification', 71.15962347286201), 'feature2vec': ('classification', 65.49168836370919)}, 361099: {'baseline': ('regression', 97.89084318885389), 'numEncoder_Encoding': ('regression', 75.17389471028906), 'numEncoder_Embeddings': ('regression', 106.30059153090338), 'feature2vec': ('regression', 118.72179577128446)}, 361102: {'baseline': ('regression', 0.21673143350403615), 'numEncoder_Encoding': ('regression', 0.21748859356903738), 'numEncoder_Embeddings': ('regression', 0.22859167071415143), 'feature2vec': ('regression', 0.28854230915031953)}}\n",
    "\n",
    "\n",
    "# Separate data for regression and classification tasks\n",
    "regression_sample = {k: v for k, v in results_method_sample.items() if v[list(v.keys())[0]][0] == 'regression'}\n",
    "classification_sample = {k: v for k, v in results_method_sample.items() if v[list(v.keys())[0]][0] == 'classification'}"
   ]
  },
  {
   "cell_type": "code",
   "execution_count": 2,
   "metadata": {},
   "outputs": [
    {
     "data": {
      "text/plain": [
       "{361076: {'baseline': ('regression', 0.6947048),\n",
       "  'numEncoder_Encoding': ('regression', 0.70837706),\n",
       "  'numEncoder_Embeddings': ('regression', 0.72519064),\n",
       "  'feature2vec': ('regression', 0.762406)},\n",
       " 361085: {'baseline': ('regression', 0.02157667593129203),\n",
       "  'numEncoder_Encoding': ('regression', 0.020731494758317863),\n",
       "  'numEncoder_Embeddings': ('regression', 0.023213502595600923),\n",
       "  'feature2vec': ('regression', 0.04606333004329112)},\n",
       " 361088: {'baseline': ('regression', 12.275849519158864),\n",
       "  'numEncoder_Encoding': ('regression', 12.387720810563492),\n",
       "  'numEncoder_Embeddings': ('regression', 13.250100068284011),\n",
       "  'feature2vec': ('regression', 15.043820201191872)},\n",
       " 361089: {'baseline': ('regression', 0.16950578699238583),\n",
       "  'numEncoder_Encoding': ('regression', 0.16298572856313967),\n",
       "  'numEncoder_Embeddings': ('regression', 0.17879031260333378),\n",
       "  'feature2vec': ('regression', 0.2365624359618306)},\n",
       " 361099: {'baseline': ('regression', 97.89084318885389),\n",
       "  'numEncoder_Encoding': ('regression', 75.17389471028906),\n",
       "  'numEncoder_Embeddings': ('regression', 106.30059153090338),\n",
       "  'feature2vec': ('regression', 118.72179577128446)},\n",
       " 361102: {'baseline': ('regression', 0.21673143350403615),\n",
       "  'numEncoder_Encoding': ('regression', 0.21748859356903738),\n",
       "  'numEncoder_Embeddings': ('regression', 0.22859167071415143),\n",
       "  'feature2vec': ('regression', 0.28854230915031953)}}"
      ]
     },
     "execution_count": 2,
     "metadata": {},
     "output_type": "execute_result"
    }
   ],
   "source": [
    "regression_sample "
   ]
  },
  {
   "cell_type": "code",
   "execution_count": 6,
   "metadata": {},
   "outputs": [
    {
     "data": {
      "text/plain": [
       "{361076: {'baseline': 0.695,\n",
       "  'numEncoder_Encoding': 0.708,\n",
       "  'numEncoder_Embeddings': 0.725,\n",
       "  'feature2vec': 0.762},\n",
       " 361085: {'baseline': 0.022,\n",
       "  'numEncoder_Encoding': 0.021,\n",
       "  'numEncoder_Embeddings': 0.023,\n",
       "  'feature2vec': 0.046},\n",
       " 361088: {'baseline': 12.276,\n",
       "  'numEncoder_Encoding': 12.388,\n",
       "  'numEncoder_Embeddings': 13.25,\n",
       "  'feature2vec': 15.044},\n",
       " 361089: {'baseline': 0.17,\n",
       "  'numEncoder_Encoding': 0.163,\n",
       "  'numEncoder_Embeddings': 0.179,\n",
       "  'feature2vec': 0.237},\n",
       " 361099: {'baseline': 97.891,\n",
       "  'numEncoder_Encoding': 75.174,\n",
       "  'numEncoder_Embeddings': 106.301,\n",
       "  'feature2vec': 118.722},\n",
       " 361102: {'baseline': 0.217,\n",
       "  'numEncoder_Encoding': 0.217,\n",
       "  'numEncoder_Embeddings': 0.229,\n",
       "  'feature2vec': 0.289}}"
      ]
     },
     "execution_count": 6,
     "metadata": {},
     "output_type": "execute_result"
    }
   ],
   "source": [
    "rounded_results = {}\n",
    "\n",
    "for dataset_id, results in regression_sample.items():\n",
    "    rounded_results[dataset_id] = {}\n",
    "    for method, (task, metric) in results.items():\n",
    "        rounded_metric = round(metric, 3)\n",
    "        rounded_results[dataset_id][method] = rounded_metric\n",
    "\n",
    "rounded_results"
   ]
  },
  {
   "cell_type": "code",
   "execution_count": 8,
   "metadata": {},
   "outputs": [
    {
     "data": {
      "text/plain": [
       "{361066: {'baseline': 77.687,\n",
       "  'numEncoder_Encoding': 75.701,\n",
       "  'numEncoder_Embeddings': 77.498,\n",
       "  'feature2vec': 76.174},\n",
       " 361110: {'baseline': 83.824,\n",
       "  'numEncoder_Encoding': 84.006,\n",
       "  'numEncoder_Embeddings': 81.268,\n",
       "  'feature2vec': 76.382},\n",
       " 361111: {'baseline': 59.465,\n",
       "  'numEncoder_Encoding': 59.246,\n",
       "  'numEncoder_Embeddings': 57.581,\n",
       "  'feature2vec': 53.856},\n",
       " 361112: {'baseline': 73.974,\n",
       "  'numEncoder_Encoding': 77.285,\n",
       "  'numEncoder_Embeddings': 75.43,\n",
       "  'feature2vec': 71.788},\n",
       " 361114: {'baseline': 66.868,\n",
       "  'numEncoder_Encoding': 67.941,\n",
       "  'numEncoder_Embeddings': 68.41,\n",
       "  'feature2vec': 61.033},\n",
       " 361116: {'baseline': 71.941,\n",
       "  'numEncoder_Encoding': 69.938,\n",
       "  'numEncoder_Embeddings': 71.16,\n",
       "  'feature2vec': 65.492}}"
      ]
     },
     "execution_count": 8,
     "metadata": {},
     "output_type": "execute_result"
    }
   ],
   "source": [
    "rounded_results1 = {}\n",
    "\n",
    "for dataset_id, results in classification_sample.items():\n",
    "    rounded_results1[dataset_id] = {}\n",
    "    for method, (task, metric) in results.items():\n",
    "        rounded_metric = round(metric, 3)\n",
    "        rounded_results1[dataset_id][method] = rounded_metric\n",
    "\n",
    "rounded_results1"
   ]
  },
  {
   "cell_type": "markdown",
   "metadata": {},
   "source": [
    ": Results for MLP equipped with simple embedding modules (see subsection 4.3). The\n",
    "metric values averaged over 15 random seeds are reported. The standard deviations are provided\n",
    "in Appendix F. We consider one result to be better than another if its mean score is better and its\n",
    "standard deviation is less than the difference. For each dataset, top results are in bold. Notation: ↓\n",
    "corresponds to RMSE, ↑ corresponds to accuracy\n",
    "\n",
    "Page 14 Embedding for graph"
   ]
  },
  {
   "cell_type": "markdown",
   "metadata": {},
   "source": [
    "### Data for the experiment of others techniques"
   ]
  },
  {
   "cell_type": "code",
   "execution_count": 8,
   "metadata": {},
   "outputs": [
    {
     "data": {
      "text/html": [
       "<div>\n",
       "<style scoped>\n",
       "    .dataframe tbody tr th:only-of-type {\n",
       "        vertical-align: middle;\n",
       "    }\n",
       "\n",
       "    .dataframe tbody tr th {\n",
       "        vertical-align: top;\n",
       "    }\n",
       "\n",
       "    .dataframe thead th {\n",
       "        text-align: right;\n",
       "    }\n",
       "</style>\n",
       "<table border=\"1\" class=\"dataframe\">\n",
       "  <thead>\n",
       "    <tr style=\"text-align: right;\">\n",
       "      <th></th>\n",
       "      <th>age</th>\n",
       "      <th>workclass</th>\n",
       "      <th>fnlwgt</th>\n",
       "      <th>education</th>\n",
       "      <th>educational-num</th>\n",
       "      <th>marital-status</th>\n",
       "      <th>occupation</th>\n",
       "      <th>relationship</th>\n",
       "      <th>race</th>\n",
       "      <th>gender</th>\n",
       "      <th>capital-gain</th>\n",
       "      <th>capital-loss</th>\n",
       "      <th>hours-per-week</th>\n",
       "      <th>native-country</th>\n",
       "    </tr>\n",
       "  </thead>\n",
       "  <tbody>\n",
       "    <tr>\n",
       "      <th>37193</th>\n",
       "      <td>42</td>\n",
       "      <td>Private</td>\n",
       "      <td>145175</td>\n",
       "      <td>Some-college</td>\n",
       "      <td>10</td>\n",
       "      <td>Married-civ-spouse</td>\n",
       "      <td>Machine-op-inspct</td>\n",
       "      <td>Husband</td>\n",
       "      <td>White</td>\n",
       "      <td>Male</td>\n",
       "      <td>0</td>\n",
       "      <td>0</td>\n",
       "      <td>40</td>\n",
       "      <td>United-States</td>\n",
       "    </tr>\n",
       "    <tr>\n",
       "      <th>31093</th>\n",
       "      <td>52</td>\n",
       "      <td>Self-emp-not-inc</td>\n",
       "      <td>175029</td>\n",
       "      <td>10th</td>\n",
       "      <td>6</td>\n",
       "      <td>Married-civ-spouse</td>\n",
       "      <td>Craft-repair</td>\n",
       "      <td>Husband</td>\n",
       "      <td>White</td>\n",
       "      <td>Male</td>\n",
       "      <td>0</td>\n",
       "      <td>0</td>\n",
       "      <td>35</td>\n",
       "      <td>United-States</td>\n",
       "    </tr>\n",
       "    <tr>\n",
       "      <th>33814</th>\n",
       "      <td>34</td>\n",
       "      <td>Local-gov</td>\n",
       "      <td>172664</td>\n",
       "      <td>HS-grad</td>\n",
       "      <td>9</td>\n",
       "      <td>Married-civ-spouse</td>\n",
       "      <td>Craft-repair</td>\n",
       "      <td>Husband</td>\n",
       "      <td>White</td>\n",
       "      <td>Male</td>\n",
       "      <td>0</td>\n",
       "      <td>0</td>\n",
       "      <td>40</td>\n",
       "      <td>United-States</td>\n",
       "    </tr>\n",
       "    <tr>\n",
       "      <th>14500</th>\n",
       "      <td>28</td>\n",
       "      <td>Private</td>\n",
       "      <td>125791</td>\n",
       "      <td>HS-grad</td>\n",
       "      <td>9</td>\n",
       "      <td>Never-married</td>\n",
       "      <td>Adm-clerical</td>\n",
       "      <td>Not-in-family</td>\n",
       "      <td>White</td>\n",
       "      <td>Female</td>\n",
       "      <td>0</td>\n",
       "      <td>0</td>\n",
       "      <td>40</td>\n",
       "      <td>United-States</td>\n",
       "    </tr>\n",
       "    <tr>\n",
       "      <th>23399</th>\n",
       "      <td>46</td>\n",
       "      <td>Private</td>\n",
       "      <td>28419</td>\n",
       "      <td>Assoc-voc</td>\n",
       "      <td>11</td>\n",
       "      <td>Never-married</td>\n",
       "      <td>Transport-moving</td>\n",
       "      <td>Not-in-family</td>\n",
       "      <td>White</td>\n",
       "      <td>Male</td>\n",
       "      <td>0</td>\n",
       "      <td>0</td>\n",
       "      <td>50</td>\n",
       "      <td>United-States</td>\n",
       "    </tr>\n",
       "    <tr>\n",
       "      <th>...</th>\n",
       "      <td>...</td>\n",
       "      <td>...</td>\n",
       "      <td>...</td>\n",
       "      <td>...</td>\n",
       "      <td>...</td>\n",
       "      <td>...</td>\n",
       "      <td>...</td>\n",
       "      <td>...</td>\n",
       "      <td>...</td>\n",
       "      <td>...</td>\n",
       "      <td>...</td>\n",
       "      <td>...</td>\n",
       "      <td>...</td>\n",
       "      <td>...</td>\n",
       "    </tr>\n",
       "    <tr>\n",
       "      <th>11284</th>\n",
       "      <td>36</td>\n",
       "      <td>Private</td>\n",
       "      <td>635913</td>\n",
       "      <td>HS-grad</td>\n",
       "      <td>9</td>\n",
       "      <td>Married-spouse-absent</td>\n",
       "      <td>Other-service</td>\n",
       "      <td>Not-in-family</td>\n",
       "      <td>Black</td>\n",
       "      <td>Male</td>\n",
       "      <td>0</td>\n",
       "      <td>0</td>\n",
       "      <td>40</td>\n",
       "      <td>United-States</td>\n",
       "    </tr>\n",
       "    <tr>\n",
       "      <th>44732</th>\n",
       "      <td>34</td>\n",
       "      <td>Private</td>\n",
       "      <td>107624</td>\n",
       "      <td>Some-college</td>\n",
       "      <td>10</td>\n",
       "      <td>Married-civ-spouse</td>\n",
       "      <td>Craft-repair</td>\n",
       "      <td>Husband</td>\n",
       "      <td>White</td>\n",
       "      <td>Male</td>\n",
       "      <td>0</td>\n",
       "      <td>0</td>\n",
       "      <td>50</td>\n",
       "      <td>United-States</td>\n",
       "    </tr>\n",
       "    <tr>\n",
       "      <th>38158</th>\n",
       "      <td>28</td>\n",
       "      <td>Private</td>\n",
       "      <td>250135</td>\n",
       "      <td>Some-college</td>\n",
       "      <td>10</td>\n",
       "      <td>Divorced</td>\n",
       "      <td>Exec-managerial</td>\n",
       "      <td>Not-in-family</td>\n",
       "      <td>White</td>\n",
       "      <td>Female</td>\n",
       "      <td>0</td>\n",
       "      <td>0</td>\n",
       "      <td>40</td>\n",
       "      <td>United-States</td>\n",
       "    </tr>\n",
       "    <tr>\n",
       "      <th>860</th>\n",
       "      <td>46</td>\n",
       "      <td>State-gov</td>\n",
       "      <td>96652</td>\n",
       "      <td>Assoc-voc</td>\n",
       "      <td>11</td>\n",
       "      <td>Separated</td>\n",
       "      <td>Adm-clerical</td>\n",
       "      <td>Unmarried</td>\n",
       "      <td>Black</td>\n",
       "      <td>Female</td>\n",
       "      <td>0</td>\n",
       "      <td>0</td>\n",
       "      <td>40</td>\n",
       "      <td>United-States</td>\n",
       "    </tr>\n",
       "    <tr>\n",
       "      <th>15795</th>\n",
       "      <td>59</td>\n",
       "      <td>Private</td>\n",
       "      <td>176118</td>\n",
       "      <td>Masters</td>\n",
       "      <td>14</td>\n",
       "      <td>Married-civ-spouse</td>\n",
       "      <td>Prof-specialty</td>\n",
       "      <td>Husband</td>\n",
       "      <td>White</td>\n",
       "      <td>Male</td>\n",
       "      <td>0</td>\n",
       "      <td>0</td>\n",
       "      <td>7</td>\n",
       "      <td>United-States</td>\n",
       "    </tr>\n",
       "  </tbody>\n",
       "</table>\n",
       "<p>39073 rows × 14 columns</p>\n",
       "</div>"
      ],
      "text/plain": [
       "       age         workclass  fnlwgt     education  educational-num  \\\n",
       "37193   42           Private  145175  Some-college               10   \n",
       "31093   52  Self-emp-not-inc  175029          10th                6   \n",
       "33814   34         Local-gov  172664       HS-grad                9   \n",
       "14500   28           Private  125791       HS-grad                9   \n",
       "23399   46           Private   28419     Assoc-voc               11   \n",
       "...    ...               ...     ...           ...              ...   \n",
       "11284   36           Private  635913       HS-grad                9   \n",
       "44732   34           Private  107624  Some-college               10   \n",
       "38158   28           Private  250135  Some-college               10   \n",
       "860     46         State-gov   96652     Assoc-voc               11   \n",
       "15795   59           Private  176118       Masters               14   \n",
       "\n",
       "              marital-status         occupation   relationship   race  gender  \\\n",
       "37193     Married-civ-spouse  Machine-op-inspct        Husband  White    Male   \n",
       "31093     Married-civ-spouse       Craft-repair        Husband  White    Male   \n",
       "33814     Married-civ-spouse       Craft-repair        Husband  White    Male   \n",
       "14500          Never-married       Adm-clerical  Not-in-family  White  Female   \n",
       "23399          Never-married   Transport-moving  Not-in-family  White    Male   \n",
       "...                      ...                ...            ...    ...     ...   \n",
       "11284  Married-spouse-absent      Other-service  Not-in-family  Black    Male   \n",
       "44732     Married-civ-spouse       Craft-repair        Husband  White    Male   \n",
       "38158               Divorced    Exec-managerial  Not-in-family  White  Female   \n",
       "860                Separated       Adm-clerical      Unmarried  Black  Female   \n",
       "15795     Married-civ-spouse     Prof-specialty        Husband  White    Male   \n",
       "\n",
       "       capital-gain  capital-loss  hours-per-week native-country  \n",
       "37193             0             0              40  United-States  \n",
       "31093             0             0              35  United-States  \n",
       "33814             0             0              40  United-States  \n",
       "14500             0             0              40  United-States  \n",
       "23399             0             0              50  United-States  \n",
       "...             ...           ...             ...            ...  \n",
       "11284             0             0              40  United-States  \n",
       "44732             0             0              50  United-States  \n",
       "38158             0             0              40  United-States  \n",
       "860               0             0              40  United-States  \n",
       "15795             0             0               7  United-States  \n",
       "\n",
       "[39073 rows x 14 columns]"
      ]
     },
     "execution_count": 8,
     "metadata": {},
     "output_type": "execute_result"
    }
   ],
   "source": [
    "import statsmodels.api as sm\n",
    "import pandas as pd\n",
    "import numpy as np\n",
    "from sklearn.model_selection import train_test_split\n",
    "import category_encoders as ce\n",
    "\n",
    "RANDOM_SEED = 42\n",
    "\n",
    "\n",
    "df = pd.read_csv(\"data/adult.csv\")\n",
    "\n",
    "# Transform the target variable to 0,1\n",
    "\n",
    "mapping = {\"<=50K\": 0, \">50K\": 1}\n",
    "df[\"income\"]  = df[\"income\"].map(mapping)\n",
    "\n",
    "X = df.drop(\"income\",axis=1)\n",
    "y = df[\"income\"]\n",
    "\n",
    "X_train, X_test, y_train, y_test = train_test_split(X, y, test_size=0.2, random_state=RANDOM_SEED)\n",
    "X_train\n"
   ]
  },
  {
   "cell_type": "markdown",
   "metadata": {},
   "source": [
    "### Leave-one-Out encoding"
   ]
  },
  {
   "cell_type": "code",
   "execution_count": null,
   "metadata": {},
   "outputs": [],
   "source": [
    "loo_encoder = ce.LeaveOneOutEncoder(return_df=True)\n",
    "X_train_loo = loo_encoder.fit_transform(X_train,y_train)\n",
    "X_test_loo = loo_encoder.fit_transform(X_test,y_test)"
   ]
  },
  {
   "cell_type": "markdown",
   "metadata": {},
   "source": [
    "### Hash encoding for categroical features"
   ]
  },
  {
   "cell_type": "code",
   "execution_count": null,
   "metadata": {},
   "outputs": [],
   "source": [
    "from sklearn.utils import murmurhash3_32\n",
    "\n",
    "def hash_encoding(category):\n",
    "    return murmurhash3_32(category) & 0xffffffff\n",
    "\n",
    "X_train_hashed = np.array([hash_encoding(label) for label in X_train])\n",
    "X_test_hashed = np.array([hash_encoding(label) for label in X_test])\n",
    "\n",
    "X_train_hashed\n"
   ]
  },
  {
   "cell_type": "markdown",
   "metadata": {},
   "source": [
    "### Multi dimensional encoding"
   ]
  },
  {
   "cell_type": "code",
   "execution_count": null,
   "metadata": {},
   "outputs": [],
   "source": [
    "import torch\n",
    "import torch.nn as nn\n",
    "from rtdl_num_embeddings import (\n",
    "    LinearReLUEmbeddings,\n",
    "    PeriodicEmbeddings,\n",
    "    PiecewiseLinearEncoding,\n",
    "    PiecewiseLinearEmbeddings,\n",
    "    compute_bins,\n",
    ")\n",
    "# NOTE: pip install rtdl_revisiting_models\n",
    "from rtdl_revisiting_models import MLP\n",
    "\n",
    "batch_size = 256\n",
    "n_cont_features = 3\n",
    "x = torch.randn(batch_size, n_cont_features)\n"
   ]
  },
  {
   "cell_type": "code",
   "execution_count": 13,
   "metadata": {},
   "outputs": [
    {
     "data": {
      "text/html": [
       "<div>\n",
       "<style scoped>\n",
       "    .dataframe tbody tr th:only-of-type {\n",
       "        vertical-align: middle;\n",
       "    }\n",
       "\n",
       "    .dataframe tbody tr th {\n",
       "        vertical-align: top;\n",
       "    }\n",
       "\n",
       "    .dataframe thead th {\n",
       "        text-align: right;\n",
       "    }\n",
       "</style>\n",
       "<table border=\"1\" class=\"dataframe\">\n",
       "  <thead>\n",
       "    <tr style=\"text-align: right;\">\n",
       "      <th></th>\n",
       "      <th>age</th>\n",
       "      <th>fnlwgt</th>\n",
       "      <th>educational-num</th>\n",
       "      <th>capital-gain</th>\n",
       "      <th>capital-loss</th>\n",
       "      <th>hours-per-week</th>\n",
       "    </tr>\n",
       "  </thead>\n",
       "  <tbody>\n",
       "    <tr>\n",
       "      <th>37193</th>\n",
       "      <td>42</td>\n",
       "      <td>145175</td>\n",
       "      <td>10</td>\n",
       "      <td>0</td>\n",
       "      <td>0</td>\n",
       "      <td>40</td>\n",
       "    </tr>\n",
       "    <tr>\n",
       "      <th>31093</th>\n",
       "      <td>52</td>\n",
       "      <td>175029</td>\n",
       "      <td>6</td>\n",
       "      <td>0</td>\n",
       "      <td>0</td>\n",
       "      <td>35</td>\n",
       "    </tr>\n",
       "    <tr>\n",
       "      <th>33814</th>\n",
       "      <td>34</td>\n",
       "      <td>172664</td>\n",
       "      <td>9</td>\n",
       "      <td>0</td>\n",
       "      <td>0</td>\n",
       "      <td>40</td>\n",
       "    </tr>\n",
       "    <tr>\n",
       "      <th>14500</th>\n",
       "      <td>28</td>\n",
       "      <td>125791</td>\n",
       "      <td>9</td>\n",
       "      <td>0</td>\n",
       "      <td>0</td>\n",
       "      <td>40</td>\n",
       "    </tr>\n",
       "    <tr>\n",
       "      <th>23399</th>\n",
       "      <td>46</td>\n",
       "      <td>28419</td>\n",
       "      <td>11</td>\n",
       "      <td>0</td>\n",
       "      <td>0</td>\n",
       "      <td>50</td>\n",
       "    </tr>\n",
       "    <tr>\n",
       "      <th>...</th>\n",
       "      <td>...</td>\n",
       "      <td>...</td>\n",
       "      <td>...</td>\n",
       "      <td>...</td>\n",
       "      <td>...</td>\n",
       "      <td>...</td>\n",
       "    </tr>\n",
       "    <tr>\n",
       "      <th>11284</th>\n",
       "      <td>36</td>\n",
       "      <td>635913</td>\n",
       "      <td>9</td>\n",
       "      <td>0</td>\n",
       "      <td>0</td>\n",
       "      <td>40</td>\n",
       "    </tr>\n",
       "    <tr>\n",
       "      <th>44732</th>\n",
       "      <td>34</td>\n",
       "      <td>107624</td>\n",
       "      <td>10</td>\n",
       "      <td>0</td>\n",
       "      <td>0</td>\n",
       "      <td>50</td>\n",
       "    </tr>\n",
       "    <tr>\n",
       "      <th>38158</th>\n",
       "      <td>28</td>\n",
       "      <td>250135</td>\n",
       "      <td>10</td>\n",
       "      <td>0</td>\n",
       "      <td>0</td>\n",
       "      <td>40</td>\n",
       "    </tr>\n",
       "    <tr>\n",
       "      <th>860</th>\n",
       "      <td>46</td>\n",
       "      <td>96652</td>\n",
       "      <td>11</td>\n",
       "      <td>0</td>\n",
       "      <td>0</td>\n",
       "      <td>40</td>\n",
       "    </tr>\n",
       "    <tr>\n",
       "      <th>15795</th>\n",
       "      <td>59</td>\n",
       "      <td>176118</td>\n",
       "      <td>14</td>\n",
       "      <td>0</td>\n",
       "      <td>0</td>\n",
       "      <td>7</td>\n",
       "    </tr>\n",
       "  </tbody>\n",
       "</table>\n",
       "<p>39073 rows × 6 columns</p>\n",
       "</div>"
      ],
      "text/plain": [
       "       age  fnlwgt  educational-num  capital-gain  capital-loss  \\\n",
       "37193   42  145175               10             0             0   \n",
       "31093   52  175029                6             0             0   \n",
       "33814   34  172664                9             0             0   \n",
       "14500   28  125791                9             0             0   \n",
       "23399   46   28419               11             0             0   \n",
       "...    ...     ...              ...           ...           ...   \n",
       "11284   36  635913                9             0             0   \n",
       "44732   34  107624               10             0             0   \n",
       "38158   28  250135               10             0             0   \n",
       "860     46   96652               11             0             0   \n",
       "15795   59  176118               14             0             0   \n",
       "\n",
       "       hours-per-week  \n",
       "37193              40  \n",
       "31093              35  \n",
       "33814              40  \n",
       "14500              40  \n",
       "23399              50  \n",
       "...               ...  \n",
       "11284              40  \n",
       "44732              50  \n",
       "38158              40  \n",
       "860                40  \n",
       "15795               7  \n",
       "\n",
       "[39073 rows x 6 columns]"
      ]
     },
     "execution_count": 13,
     "metadata": {},
     "output_type": "execute_result"
    }
   ],
   "source": [
    "numeric_features = X_train.select_dtypes(include=['float64', 'float32', 'float16', 'int64', 'int32', 'int16', 'int8', 'uint8'])\n",
    "numeric_features"
   ]
  },
  {
   "cell_type": "code",
   "execution_count": 16,
   "metadata": {},
   "outputs": [
    {
     "data": {
      "text/plain": [
       "[tensor([17., 18., 19., 20., 21., 22., 23., 24., 25., 26., 27., 28., 29., 30.,\n",
       "         31., 32., 33., 34., 35., 36., 37., 38., 39., 40., 41., 42., 43., 44.,\n",
       "         45., 46., 47., 48., 49., 50., 51., 53., 54., 56., 58., 59., 62., 65.,\n",
       "         69., 90.]),\n",
       " tensor([  12285.0000,   31053.0000,   36956.0000,   46699.0000,   55465.0000,\n",
       "           67929.0078,   79627.0000,   89598.0000,   97939.0000,  103277.0000,\n",
       "          108233.0000,  113151.0000,  117634.0000,  122353.0000,  127961.0547,\n",
       "          134331.0000,  140581.0000,  145886.0312,  151580.0000,  156848.0000,\n",
       "          161944.0000,  166416.0000,  170583.0000,  174685.0000,  177974.0000,\n",
       "          182227.0000,  186035.0000,  189511.0000,  192932.0000,  196993.9688,\n",
       "          200679.0000,  205175.0000,  210508.9844,  216208.0000,  222899.0000,\n",
       "          229826.0000,  237735.0000,  246652.0000,  256416.9062,  267431.0000,\n",
       "          279452.0000,  292472.0000,  308118.0000,  324791.0000,  342709.0000,\n",
       "          362835.0000,  393829.0000,  445480.0000, 1484705.0000]),\n",
       " tensor([ 1.,  4.,  5.,  6.,  7.,  8.,  9., 10., 11., 12., 13., 14., 15., 16.]),\n",
       " tensor([    0.,  3325.,  7298., 13550., 99999.]),\n",
       " tensor([   0., 1579., 1902., 4356.]),\n",
       " tensor([ 1., 10., 15., 20., 25., 28., 30., 32., 35., 38., 40., 42., 45., 48.,\n",
       "         50., 55., 56., 60., 70., 99.])]"
      ]
     },
     "execution_count": 16,
     "metadata": {},
     "output_type": "execute_result"
    }
   ],
   "source": [
    "num_tensor = torch.tensor(numeric_features.to_numpy(), dtype=torch.float32)\n",
    "bins = compute_bins(num_tensor)\n",
    "bins"
   ]
  },
  {
   "cell_type": "code",
   "execution_count": 22,
   "metadata": {},
   "outputs": [],
   "source": [
    "emb = PiecewiseLinearEmbeddings(bins,8,activation=False)\n",
    "new_rep = emb(num_tensor)"
   ]
  },
  {
   "cell_type": "code",
   "execution_count": 29,
   "metadata": {},
   "outputs": [
    {
     "data": {
      "text/plain": [
       "tensor([[[ 0.2348,  0.2704,  1.0718,  ..., -0.5643, -0.5655, -0.4959],\n",
       "         [-0.0683,  0.0071,  0.0322,  ..., -0.0912, -0.2654, -0.5293],\n",
       "         [ 0.0743, -0.1714, -0.1456,  ..., -0.3974,  0.1932, -0.1480],\n",
       "         [ 0.0857,  0.0083,  0.0875,  ...,  0.1417,  0.0417, -0.1220],\n",
       "         [ 0.1024,  0.0078, -0.0914,  ..., -0.0799,  0.0574, -0.0514],\n",
       "         [-0.3467,  0.2443, -0.2380,  ..., -0.3350, -0.0616, -0.1471]],\n",
       "\n",
       "        [[-0.0235,  0.0132,  1.3975,  ..., -0.2628, -0.7080, -0.8599],\n",
       "         [-0.0458, -0.5130,  0.2609,  ..., -0.1456,  0.0533, -0.1228],\n",
       "         [ 0.3003, -0.0757, -0.2259,  ..., -0.3512,  0.3278, -0.0954],\n",
       "         [ 0.0857,  0.0083,  0.0875,  ...,  0.1417,  0.0417, -0.1220],\n",
       "         [ 0.1024,  0.0078, -0.0914,  ..., -0.0799,  0.0574, -0.0514],\n",
       "         [-0.2743,  0.2514, -0.0197,  ..., -0.3059,  0.0155, -0.3582]],\n",
       "\n",
       "        [[ 0.0818,  0.3669,  0.7071,  ..., -0.3956, -0.4454, -0.4212],\n",
       "         [ 0.0290, -0.5039,  0.1887,  ..., -0.1533,  0.0090, -0.1825],\n",
       "         [ 0.0392, -0.1830, -0.1336,  ..., -0.2574,  0.2928, -0.1162],\n",
       "         [ 0.0857,  0.0083,  0.0875,  ...,  0.1417,  0.0417, -0.1220],\n",
       "         [ 0.1024,  0.0078, -0.0914,  ..., -0.0799,  0.0574, -0.0514],\n",
       "         [-0.3467,  0.2443, -0.2380,  ..., -0.3350, -0.0616, -0.1471]],\n",
       "\n",
       "        ...,\n",
       "\n",
       "        [[-0.0586,  0.4930,  0.5594,  ..., -0.0164, -0.5202, -0.2125],\n",
       "         [-0.4056, -0.2045, -0.1627,  ...,  0.2372,  0.7427, -0.5198],\n",
       "         [ 0.0743, -0.1714, -0.1456,  ..., -0.3974,  0.1932, -0.1480],\n",
       "         [ 0.0857,  0.0083,  0.0875,  ...,  0.1417,  0.0417, -0.1220],\n",
       "         [ 0.1024,  0.0078, -0.0914,  ..., -0.0799,  0.0574, -0.0514],\n",
       "         [-0.3467,  0.2443, -0.2380,  ..., -0.3350, -0.0616, -0.1471]],\n",
       "\n",
       "        [[ 0.1238,  0.2974,  1.3357,  ..., -0.3379, -0.6933, -0.3477],\n",
       "         [ 0.2718,  0.2052, -0.2203,  ..., -0.3108, -0.2413, -0.3256],\n",
       "         [ 0.2037, -0.2674, -0.0563,  ..., -0.2544,  0.3161, -0.1344],\n",
       "         [ 0.0857,  0.0083,  0.0875,  ...,  0.1417,  0.0417, -0.1220],\n",
       "         [ 0.1024,  0.0078, -0.0914,  ..., -0.0799,  0.0574, -0.0514],\n",
       "         [-0.3467,  0.2443, -0.2380,  ..., -0.3350, -0.0616, -0.1471]],\n",
       "\n",
       "        [[-0.2402, -0.0573,  1.2959,  ..., -0.3862, -0.5425, -0.7967],\n",
       "         [-0.0704, -0.5223,  0.2791,  ..., -0.1201,  0.0773, -0.1123],\n",
       "         [ 0.0674, -0.1921, -0.3633,  ..., -0.0046,  0.2913,  0.0852],\n",
       "         [ 0.0857,  0.0083,  0.0875,  ...,  0.1417,  0.0417, -0.1220],\n",
       "         [ 0.1024,  0.0078, -0.0914,  ..., -0.0799,  0.0574, -0.0514],\n",
       "         [-0.1549, -0.0070, -0.0460,  ...,  0.0400,  0.0904,  0.1349]]],\n",
       "       grad_fn=<AddBackward0>)"
      ]
     },
     "execution_count": 29,
     "metadata": {},
     "output_type": "execute_result"
    }
   ],
   "source": [
    "new_rep"
   ]
  },
  {
   "cell_type": "markdown",
   "metadata": {},
   "source": [
    "### SuperTML encoding"
   ]
  },
  {
   "cell_type": "code",
   "execution_count": null,
   "metadata": {},
   "outputs": [],
   "source": []
  }
 ],
 "metadata": {
  "kernelspec": {
   "display_name": "Python 3",
   "language": "python",
   "name": "python3"
  },
  "language_info": {
   "codemirror_mode": {
    "name": "ipython",
    "version": 3
   },
   "file_extension": ".py",
   "mimetype": "text/x-python",
   "name": "python",
   "nbconvert_exporter": "python",
   "pygments_lexer": "ipython3",
   "version": "3.11.6"
  }
 },
 "nbformat": 4,
 "nbformat_minor": 2
}
