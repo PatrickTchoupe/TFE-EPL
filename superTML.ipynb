{
 "cells": [
  {
   "cell_type": "code",
   "execution_count": 2,
   "metadata": {},
   "outputs": [],
   "source": [
    "#!pip install PIL"
   ]
  },
  {
   "cell_type": "code",
   "execution_count": 3,
   "metadata": {},
   "outputs": [],
   "source": [
    "import statsmodels.api as sm\n",
    "import pandas as pd\n",
    "import numpy as np\n",
    "from sklearn.model_selection import train_test_split\n",
    "import category_encoders as ce\n",
    "import torch\n",
    "import torch.nn as nn\n",
    "import torch.optim as optim\n",
    "from torch.utils.data import DataLoader, TensorDataset\n",
    "\n",
    "RANDOM_SEED = 42\n",
    "\n",
    "\n",
    "df = pd.read_csv(\"data/adult.csv\")\n",
    "\n",
    "# Transform the target variable to 0,1\n",
    "\n",
    "mapping = {\"<=50K\": 0, \">50K\": 1}\n",
    "df[\"income\"]  = df[\"income\"].map(mapping)\n",
    "\n",
    "X = df.drop(\"income\",axis=1)\n",
    "y = df[\"income\"]\n",
    "\n",
    "X_train, X_test, y_train, y_test = train_test_split(X, y, test_size=0.2, random_state=RANDOM_SEED)\n",
    "\n"
   ]
  },
  {
   "cell_type": "code",
   "execution_count": 4,
   "metadata": {},
   "outputs": [],
   "source": [
    "from PIL import Image, ImageDraw, ImageFont\n",
    "import numpy as np\n",
    "import cv2\n",
    "\n",
    "def show_column_position(dat):\n",
    "    font = ImageFont.truetype(\"Arial.ttf\", size=20)\n",
    "    background = np.array([[0 for _ in range(255)] for _ in range(255)], dtype='uint8')\n",
    "    image = Image.fromarray(background)\n",
    "    draw = ImageDraw.Draw(image)\n",
    "    draw.text((32, 32), str(dat[0][:12]), fill='white', font=font)\n",
    "    draw.text((32, 160), str(dat[1][:11]), fill='white', font=font)\n",
    "    draw.text((160, 32), str(dat[2][:11]), fill='white', font=font)\n",
    "    draw.text((160, 160), str(dat[3][:11]), fill='white', font=font)\n",
    "    rgb = [np.array(image, dtype='uint8') for _ in range(3)]\n",
    "    return np.array(rgb)\n",
    "\n",
    "def show_column_position_another(dat):\n",
    "    font = ImageFont.truetype(\"Arial.ttf\", size=20)\n",
    "    background = np.array([[0 for _ in range(255)] for _ in range(255)], dtype='uint8')\n",
    "    image = Image.fromarray(background)\n",
    "    draw = ImageDraw.Draw(image)\n",
    "    draw.text((32, 32), str(dat[2][:12]), fill='white', font=font)\n",
    "    draw.text((32, 160), str(dat[3][:11]), fill='white', font=font)\n",
    "    draw.text((160, 32), str(dat[1][:11]), fill='white', font=font)\n",
    "    draw.text((160, 160), str(dat[0][:11]), fill='white', font=font)\n",
    "    rgb = [np.array(image, dtype='uint8') for _ in range(3)]\n",
    "    return np.array(rgb)\n",
    "\n",
    "\n",
    "def data_to_image_another(data):\n",
    "    data_images = []\n",
    "    font = ImageFont.truetype(\"Arial.ttf\", size=50)\n",
    "    for dat in data:\n",
    "        background = np.array([[0 for _ in range(255)] for _ in range(255)], dtype='uint8')\n",
    "        image = Image.fromarray(background)\n",
    "        draw = ImageDraw.Draw(image)\n",
    "        draw.text((32, 32), str(dat[2]), fill='white', font=font)\n",
    "        draw.text((32, 160), str(dat[3]), fill='white', font=font)\n",
    "        draw.text((160, 32), str(dat[1]), fill='white', font=font)\n",
    "        draw.text((160, 160), str(dat[0]), fill='white', font=font)\n",
    "        rgb = [np.array(image, dtype='uint8') for _ in range(3)]\n",
    "        data_images.append(rgb)\n",
    "    return np.array(data_images) / 255\n"
   ]
  },
  {
   "cell_type": "code",
   "execution_count": 5,
   "metadata": {},
   "outputs": [
    {
     "name": "stderr",
     "output_type": "stream",
     "text": [
      "C:\\Users\\patri\\AppData\\Roaming\\Python\\Python311\\site-packages\\tqdm\\auto.py:21: TqdmWarning: IProgress not found. Please update jupyter and ipywidgets. See https://ipywidgets.readthedocs.io/en/stable/user_install.html\n",
      "  from .autonotebook import tqdm as notebook_tqdm\n",
      "c:\\Users\\patri\\AppData\\Local\\Programs\\Python\\Python311\\Lib\\site-packages\\torchvision\\models\\_utils.py:223: UserWarning: Arguments other than a weight enum or `None` for 'weights' are deprecated since 0.13 and may be removed in the future. The current behavior is equivalent to passing `weights=ResNet18_Weights.IMAGENET1K_V1`. You can also use `weights=ResNet18_Weights.DEFAULT` to get the most up-to-date weights.\n",
      "  warnings.warn(msg)\n"
     ]
    }
   ],
   "source": [
    "import torch.nn as nn\n",
    "from torchvision import models\n",
    "import matplotlib.pyplot as plt\n",
    "\n",
    "model_res = models.resnet18(weights=True)\n",
    "num_features = model_res.fc.in_features\n",
    "model_res.fc = nn.Linear(num_features, 3)"
   ]
  },
  {
   "cell_type": "code",
   "execution_count": 6,
   "metadata": {},
   "outputs": [],
   "source": [
    "from torch.utils.data import DataLoader, TensorDataset\n",
    "\n",
    "def data_to_image(data):\n",
    "    \n",
    "    data_images = []\n",
    "    font = ImageFont.truetype(\"arial.ttf\", size=50)\n",
    "    \n",
    "    background = np.array([[0 for _ in range(255)] for _ in range(255)], dtype='uint8')\n",
    "    image = Image.fromarray(background)\n",
    "    draw = ImageDraw.Draw(image)\n",
    "    \n",
    "    y_offset = 4  # Décalage initial en y\n",
    "    x_offset = 4  # Décalage initial en x\n",
    "    \n",
    "    #print(f\"batches data {data}\")\n",
    "\n",
    "    for i, value in enumerate(data):\n",
    "        draw.text((x_offset, y_offset), str(value), fill='white', font=font)\n",
    "        y_offset += 128  # Ajustement de la position en y pour la prochaine valeur\n",
    "        if i % 2 != 0:\n",
    "            y_offset = 4  # Réinitialisation du décalage en y après chaque deuxième valeur\n",
    "            x_offset += 128  # Décalage en x pour la prochaine ligne\n",
    "\n",
    "    rgb = [np.array(image, dtype='uint8') for _ in range(3)]\n",
    "    \n",
    "        \n",
    "    return rgb"
   ]
  },
  {
   "cell_type": "code",
   "execution_count": 7,
   "metadata": {},
   "outputs": [],
   "source": [
    "class MyDataset(torch.utils.data.Dataset):\n",
    "    def __init__(self, X):\n",
    "        self.X = X\n",
    "\n",
    "    def __len__(self):\n",
    "        return len(self.X)\n",
    "\n",
    "    def __str__(self):\n",
    "        return print(self.X)\n",
    "\n",
    "    def __getitem__(self, idx):\n",
    "       r = np.array(self.X[idx])\n",
    "       return list(r)"
   ]
  },
  {
   "cell_type": "code",
   "execution_count": 8,
   "metadata": {},
   "outputs": [],
   "source": [
    "\n",
    "my_dataset = MyDataset(X_train.values)\n",
    "\n",
    "train_loader = DataLoader(my_dataset,batch_size=4)\n",
    "test_loader = DataLoader(X_test, batch_size=16)"
   ]
  },
  {
   "cell_type": "code",
   "execution_count": 9,
   "metadata": {},
   "outputs": [
    {
     "name": "stdout",
     "output_type": "stream",
     "text": [
      "(39073, 14)\n"
     ]
    }
   ],
   "source": [
    "print(X_train.shape)"
   ]
  },
  {
   "cell_type": "code",
   "execution_count": 10,
   "metadata": {},
   "outputs": [],
   "source": [
    "\n",
    "test_images = []\n",
    "data_images = []\n",
    "\n",
    "for batch in X_train.values:\n",
    "    images = data_to_image(batch)\n",
    "    data_images.append(images)\n",
    "    "
   ]
  },
  {
   "cell_type": "code",
   "execution_count": 11,
   "metadata": {},
   "outputs": [],
   "source": [
    "train_images = np.array(data_images[:120]) / 255"
   ]
  },
  {
   "cell_type": "code",
   "execution_count": 18,
   "metadata": {},
   "outputs": [
    {
     "ename": "MemoryError",
     "evalue": "Unable to allocate 23.8 MiB for an array with shape (16, 3, 255, 255) and data type float64",
     "output_type": "error",
     "traceback": [
      "\u001b[1;31m---------------------------------------------------------------------------\u001b[0m",
      "\u001b[1;31mMemoryError\u001b[0m                               Traceback (most recent call last)",
      "Cell \u001b[1;32mIn[18], line 13\u001b[0m\n\u001b[0;32m      9\u001b[0m batch_data \u001b[38;5;241m=\u001b[39m data_images[batch_start:batch_end]\n\u001b[0;32m     12\u001b[0m \u001b[38;5;66;03m# Convert the batch of images to numpy array and normalize\u001b[39;00m\n\u001b[1;32m---> 13\u001b[0m batch_images \u001b[38;5;241m=\u001b[39m \u001b[43mnp\u001b[49m\u001b[38;5;241;43m.\u001b[39;49m\u001b[43marray\u001b[49m\u001b[43m(\u001b[49m\u001b[43mdata_images\u001b[49m\u001b[43m[\u001b[49m\u001b[43mbatch_start\u001b[49m\u001b[43m:\u001b[49m\u001b[43mbatch_end\u001b[49m\u001b[43m]\u001b[49m\u001b[43m)\u001b[49m\u001b[43m \u001b[49m\u001b[38;5;241;43m/\u001b[39;49m\u001b[43m \u001b[49m\u001b[38;5;241;43m255\u001b[39;49m\n\u001b[0;32m     15\u001b[0m \u001b[38;5;66;03m# Convert the numpy array to a PyTorch tensor and append to the list\u001b[39;00m\n\u001b[0;32m     16\u001b[0m X_tensor \u001b[38;5;241m=\u001b[39m torch\u001b[38;5;241m.\u001b[39mfrom_numpy(batch_images)\u001b[38;5;241m.\u001b[39mfloat()\n",
      "\u001b[1;31mMemoryError\u001b[0m: Unable to allocate 23.8 MiB for an array with shape (16, 3, 255, 255) and data type float64"
     ]
    }
   ],
   "source": [
    "import torch\n",
    "\n",
    "batch_size = 4\n",
    "train_tensors = []\n",
    "\n",
    "# Iterate over the data_images in batches\n",
    "for batch_start in range(0, len(data_images), batch_size):\n",
    "    batch_end = min(batch_start + batch_size, len(data_images))\n",
    "    batch_data = data_images[batch_start:batch_end]\n",
    "\n",
    "    \n",
    "    # Convert the batch of images to numpy array and normalize\n",
    "    batch_images = np.array(data_images[batch_start:batch_end]) / 255\n",
    "\n",
    "    # Convert the numpy array to a PyTorch tensor and append to the list\n",
    "    X_tensor = torch.from_numpy(batch_images).float()\n",
    "    train_tensors.append(X_tensor)\n",
    "\n",
    "# Concatenate the list of tensors along the batch dimension\n",
    "X_tra = torch.cat(train_tensors, dim=0)\n"
   ]
  },
  {
   "cell_type": "code",
   "execution_count": null,
   "metadata": {},
   "outputs": [
    {
     "ename": "",
     "evalue": "",
     "output_type": "error",
     "traceback": [
      "\u001b[1;31mThe Kernel crashed while executing code in the current cell or a previous cell. \n",
      "\u001b[1;31mPlease review the code in the cell(s) to identify a possible cause of the failure. \n",
      "\u001b[1;31mClick <a href='https://aka.ms/vscodeJupyterKernelCrash'>here</a> for more info. \n",
      "\u001b[1;31mView Jupyter <a href='command:jupyter.viewOutput'>log</a> for further details."
     ]
    }
   ],
   "source": [
    "batch_size = 128\n",
    "num_batches = len(data_images) // batch_size\n",
    "\n",
    "train_tensors = []\n",
    "for batch_idx in range(num_batches):\n",
    "    train_images = []\n",
    "    start_idx = batch_idx * batch_size\n",
    "    end_idx = (batch_idx + 1) * batch_size\n",
    "    batch_data = data_images[start_idx:end_idx]\n",
    "    train_images = np.array(batch_data) / 255\n",
    "    X_tensor= torch.from_numpy(train_images).float()\n",
    "    train_tensors.append(X_tensor)\n",
    "\n",
    "\n",
    "X_tra = torch.cat(train_tensors,dim=0)"
   ]
  },
  {
   "cell_type": "code",
   "execution_count": null,
   "metadata": {},
   "outputs": [],
   "source": [
    "X_tra"
   ]
  },
  {
   "cell_type": "code",
   "execution_count": null,
   "metadata": {},
   "outputs": [
    {
     "data": {
      "text/plain": [
       "<matplotlib.image.AxesImage at 0x1e1b08ddd10>"
      ]
     },
     "execution_count": 76,
     "metadata": {},
     "output_type": "execute_result"
    },
    {
     "data": {
      "image/png": "[encoded data removed]",
      "text/plain": [
       "<Figure size 640x480 with 1 Axes>"
      ]
     },
     "metadata": {},
     "output_type": "display_data"
    }
   ],
   "source": [
    "plt.grid()\n",
    "plt.imshow(train_images[0][0,:,:])"
   ]
  },
  {
   "cell_type": "code",
   "execution_count": null,
   "metadata": {},
   "outputs": [
    {
     "ename": "AssertionError",
     "evalue": "Size mismatch between tensors",
     "output_type": "error",
     "traceback": [
      "\u001b[1;31m---------------------------------------------------------------------------\u001b[0m",
      "\u001b[1;31mAssertionError\u001b[0m                            Traceback (most recent call last)",
      "Cell \u001b[1;32mIn[47], line 11\u001b[0m\n\u001b[0;32m      8\u001b[0m X_test \u001b[38;5;241m=\u001b[39m torch\u001b[38;5;241m.\u001b[39mfrom_numpy(test_images)\u001b[38;5;241m.\u001b[39mfloat()\n\u001b[0;32m      9\u001b[0m y_test \u001b[38;5;241m=\u001b[39m torch\u001b[38;5;241m.\u001b[39mfrom_numpy(y_test\u001b[38;5;241m.\u001b[39mto_numpy())\u001b[38;5;241m.\u001b[39mlong()\n\u001b[1;32m---> 11\u001b[0m train_dataset \u001b[38;5;241m=\u001b[39m \u001b[43mTensorDataset\u001b[49m\u001b[43m(\u001b[49m\u001b[43mX_train\u001b[49m\u001b[43m,\u001b[49m\u001b[43m \u001b[49m\u001b[43my_train\u001b[49m\u001b[43m)\u001b[49m\n\u001b[0;32m     12\u001b[0m val_dataset \u001b[38;5;241m=\u001b[39m TensorDataset(X_test, y_test)\n\u001b[0;32m     14\u001b[0m dataloaders \u001b[38;5;241m=\u001b[39m {\u001b[38;5;124m'\u001b[39m\u001b[38;5;124mtrain\u001b[39m\u001b[38;5;124m'\u001b[39m: DataLoader(train_dataset, batch_size\u001b[38;5;241m=\u001b[39m\u001b[38;5;241m16\u001b[39m, shuffle\u001b[38;5;241m=\u001b[39m\u001b[38;5;28;01mTrue\u001b[39;00m),\n\u001b[0;32m     15\u001b[0m               \u001b[38;5;124m'\u001b[39m\u001b[38;5;124mval\u001b[39m\u001b[38;5;124m'\u001b[39m: DataLoader(val_dataset)}\n",
      "File \u001b[1;32mc:\\Users\\patri\\AppData\\Local\\Programs\\Python\\Python311\\Lib\\site-packages\\torch\\utils\\data\\dataset.py:204\u001b[0m, in \u001b[0;36mTensorDataset.__init__\u001b[1;34m(self, *tensors)\u001b[0m\n\u001b[0;32m    203\u001b[0m \u001b[38;5;28;01mdef\u001b[39;00m \u001b[38;5;21m__init__\u001b[39m(\u001b[38;5;28mself\u001b[39m, \u001b[38;5;241m*\u001b[39mtensors: Tensor) \u001b[38;5;241m-\u001b[39m\u001b[38;5;241m>\u001b[39m \u001b[38;5;28;01mNone\u001b[39;00m:\n\u001b[1;32m--> 204\u001b[0m     \u001b[38;5;28;01massert\u001b[39;00m \u001b[38;5;28mall\u001b[39m(tensors[\u001b[38;5;241m0\u001b[39m]\u001b[38;5;241m.\u001b[39msize(\u001b[38;5;241m0\u001b[39m) \u001b[38;5;241m==\u001b[39m tensor\u001b[38;5;241m.\u001b[39msize(\u001b[38;5;241m0\u001b[39m) \u001b[38;5;28;01mfor\u001b[39;00m tensor \u001b[38;5;129;01min\u001b[39;00m tensors), \u001b[38;5;124m\"\u001b[39m\u001b[38;5;124mSize mismatch between tensors\u001b[39m\u001b[38;5;124m\"\u001b[39m\n\u001b[0;32m    205\u001b[0m     \u001b[38;5;28mself\u001b[39m\u001b[38;5;241m.\u001b[39mtensors \u001b[38;5;241m=\u001b[39m tensors\n",
      "\u001b[1;31mAssertionError\u001b[0m: Size mismatch between tensors"
     ]
    }
   ],
   "source": [
    "\n",
    "\n",
    "X_train = torch.from_numpy(train_images).float()\n",
    "y_train = torch.from_numpy(y_train.squeeze().to_numpy()).long()\n",
    "X_test = torch.from_numpy(test_images).float()\n",
    "y_test = torch.from_numpy(y_test.to_numpy()).long()\n",
    "\n",
    "train_dataset = TensorDataset(X_train, y_train)\n",
    "val_dataset = TensorDataset(X_test, y_test)\n",
    "\n",
    "dataloaders = {'train': DataLoader(train_dataset, batch_size=16, shuffle=True),\n",
    "              'val': DataLoader(val_dataset)}\n",
    "\n",
    "dataset_sizes = {'train': len(X_train),\n",
    "                'val': len(X_test)}"
   ]
  },
  {
   "cell_type": "markdown",
   "metadata": {},
   "source": [
    "#### Echec de la mission problème de mémoire pour de grands datasets"
   ]
  }
 ],
 "metadata": {
  "kernelspec": {
   "display_name": "Python 3",
   "language": "python",
   "name": "python3"
  },
  "language_info": {
   "codemirror_mode": {
    "name": "ipython",
    "version": 3
   },
   "file_extension": ".py",
   "mimetype": "text/x-python",
   "name": "python",
   "nbconvert_exporter": "python",
   "pygments_lexer": "ipython3",
   "version": "3.11.6"
  }
 },
 "nbformat": 4,
 "nbformat_minor": 2
}
